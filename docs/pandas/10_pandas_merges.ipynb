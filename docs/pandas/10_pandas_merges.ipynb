{
  "nbformat": 4,
  "nbformat_minor": 0,
  "metadata": {
    "colab": {
      "provenance": [],
      "authorship_tag": "ABX9TyMpiPDLxHhLiidlLIfVbfAM",
      "include_colab_link": true
    },
    "kernelspec": {
      "name": "python3",
      "display_name": "Python 3"
    },
    "language_info": {
      "name": "python"
    }
  },
  "cells": [
    {
      "cell_type": "markdown",
      "metadata": {
        "id": "view-in-github",
        "colab_type": "text"
      },
      "source": [
        "<a href=\"https://colab.research.google.com/github/skymined/study_data_analytics/blob/main/docs/pandas/10_pandas_merges.ipynb\" target=\"_parent\"><img src=\"https://colab.research.google.com/assets/colab-badge.svg\" alt=\"Open In Colab\"/></a>"
      ]
    },
    {
      "cell_type": "markdown",
      "source": [
        "## pandas.concat()\n",
        "- 중요점 : 같은 컬럼으로 붙임"
      ],
      "metadata": {
        "id": "bPKEXAYFsYRt"
      }
    },
    {
      "cell_type": "code",
      "execution_count": null,
      "metadata": {
        "colab": {
          "base_uri": "https://localhost:8080/"
        },
        "id": "36fuPkdarnzN",
        "outputId": "0e9da79f-cc02-458f-dd33-c7c4858b954f"
      },
      "outputs": [
        {
          "output_type": "execute_result",
          "data": {
            "text/plain": [
              "((10683, 9), (37986, 9), (179365, 9))"
            ]
          },
          "metadata": {},
          "execution_count": 2
        }
      ],
      "source": [
        "import pandas as pd\n",
        "df_BRAZIL = pd.read_csv('BRAZIL.csv')\n",
        "df_ITALY = pd.read_csv('ITALY.csv')\n",
        "df_USA = pd.read_csv('USA.csv')\n",
        "df_BRAZIL.shape, df_ITALY.shape, df_USA.shape"
      ]
    },
    {
      "cell_type": "code",
      "source": [
        "df_merged = pd.concat(objs=[df_BRAZIL,df_ITALY, df_USA ])\n",
        "df_merged.shape"
      ],
      "metadata": {
        "colab": {
          "base_uri": "https://localhost:8080/"
        },
        "id": "9rwHS95Ss2qF",
        "outputId": "d832f392-a49f-46da-fc88-479f84a0a578"
      },
      "execution_count": null,
      "outputs": [
        {
          "output_type": "execute_result",
          "data": {
            "text/plain": [
              "(228034, 9)"
            ]
          },
          "metadata": {},
          "execution_count": 3
        }
      ]
    },
    {
      "cell_type": "code",
      "source": [],
      "metadata": {
        "id": "NXaZEmkXt3bY"
      },
      "execution_count": null,
      "outputs": []
    }
  ]
}